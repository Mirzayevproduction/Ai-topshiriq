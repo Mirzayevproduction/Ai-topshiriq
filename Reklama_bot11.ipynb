{
  "nbformat": 4,
  "nbformat_minor": 0,
  "metadata": {
    "colab": {
      "provenance": []
    },
    "kernelspec": {
      "name": "python3",
      "display_name": "Python 3"
    },
    "language_info": {
      "name": "python"
    }
  },
  "cells": [
    {
      "cell_type": "code",
      "execution_count": 1,
      "metadata": {
        "colab": {
          "base_uri": "https://localhost:8080/"
        },
        "id": "ei2OaWgcwKyP",
        "outputId": "5999167a-f01e-4ade-81a5-f2b86d3919b8"
      },
      "outputs": [
        {
          "output_type": "stream",
          "name": "stdout",
          "text": [
            "Found existing installation: python-telegram-bot 20.3\n",
            "Uninstalling python-telegram-bot-20.3:\n",
            "  Successfully uninstalled python-telegram-bot-20.3\n",
            "Collecting python-telegram-bot==20.3\n",
            "  Using cached python_telegram_bot-20.3-py3-none-any.whl.metadata (15 kB)\n",
            "Requirement already satisfied: httpx~=0.24.0 in /usr/local/lib/python3.11/dist-packages (from python-telegram-bot==20.3) (0.24.1)\n",
            "Requirement already satisfied: certifi in /usr/local/lib/python3.11/dist-packages (from httpx~=0.24.0->python-telegram-bot==20.3) (2025.6.15)\n",
            "Requirement already satisfied: httpcore<0.18.0,>=0.15.0 in /usr/local/lib/python3.11/dist-packages (from httpx~=0.24.0->python-telegram-bot==20.3) (0.17.3)\n",
            "Requirement already satisfied: idna in /usr/local/lib/python3.11/dist-packages (from httpx~=0.24.0->python-telegram-bot==20.3) (3.10)\n",
            "Requirement already satisfied: sniffio in /usr/local/lib/python3.11/dist-packages (from httpx~=0.24.0->python-telegram-bot==20.3) (1.3.1)\n",
            "Requirement already satisfied: h11<0.15,>=0.13 in /usr/local/lib/python3.11/dist-packages (from httpcore<0.18.0,>=0.15.0->httpx~=0.24.0->python-telegram-bot==20.3) (0.14.0)\n",
            "Requirement already satisfied: anyio<5.0,>=3.0 in /usr/local/lib/python3.11/dist-packages (from httpcore<0.18.0,>=0.15.0->httpx~=0.24.0->python-telegram-bot==20.3) (4.9.0)\n",
            "Requirement already satisfied: typing_extensions>=4.5 in /usr/local/lib/python3.11/dist-packages (from anyio<5.0,>=3.0->httpcore<0.18.0,>=0.15.0->httpx~=0.24.0->python-telegram-bot==20.3) (4.14.0)\n",
            "Using cached python_telegram_bot-20.3-py3-none-any.whl (545 kB)\n",
            "Installing collected packages: python-telegram-bot\n",
            "Successfully installed python-telegram-bot-20.3\n"
          ]
        }
      ],
      "source": [
        "!pip uninstall python-telegram-bot -y\n",
        "!pip install python-telegram-bot==20.3"
      ]
    },
    {
      "cell_type": "code",
      "source": [],
      "metadata": {
        "id": "rjml6f-ozj0v"
      },
      "execution_count": 17,
      "outputs": []
    },
    {
      "cell_type": "code",
      "source": [
        "!pip install python-telegram-bot==20.3 apscheduler pytz\n",
        "!pip install flask\n",
        "\n",
        "import asyncio\n",
        "from telegram import Bot\n",
        "from apscheduler.schedulers.asyncio import AsyncIOScheduler\n",
        "import pytz\n",
        "from threading import Thread\n",
        "from flask import Flask\n",
        "\n",
        "# Sozlamalar\n",
        "BOT_TOKEN = \"7634842711:AAFa8U3t0x3YYulaty4grX560JyAsBi7re4\"\n",
        "CHANNEL_ID = \"@servicyozyovon\"  # O'zgartiring\n",
        "TIMEZONE = pytz.timezone('Asia/Tashkent')\n",
        "\n",
        "# Flask server - yangi portda (5000)\n",
        "app = Flask(__name__)\n",
        "@app.route('/')\n",
        "def home(): return \"Bot ishlayapti (5000-port)\"\n",
        "\n",
        "def run_flask():\n",
        "    app.run(host='0.0.0.0', port=5000)\n",
        "\n",
        "Thread(target=run_flask).start()\n",
        "\n",
        "# Bot funktsiyalari\n",
        "async def send_ad():\n",
        "    try:\n",
        "        bot = Bot(token=BOT_TOKEN)\n",
        "        message = \"🚖 Ishtirxon Taxsi - Toshkent-Samarqand-Farg'ona\\n⏰ 8:00 dan\\n📞 +998901234567\"\n",
        "        await bot.send_message(chat_id=CHANNEL_ID, text=message, parse_mode=\"HTML\")\n",
        "        print(f\"✅ Xabar yuborildi: {message[:30]}...\")\n",
        "    except Exception as e:\n",
        "        print(f\"❌ Xato: {e}\")\n",
        "\n",
        "# Scheduler\n",
        "scheduler = AsyncIOScheduler(timezone=TIMEZONE)\n",
        "scheduler.add_job(send_ad, 'interval', minutes=1)\n",
        "scheduler.start()\n",
        "\n",
        "# Asosiy tsikl\n",
        "async def main():\n",
        "    print(\"🤖 Bot ishga tushdi! Xabarlar har 1 daqiqada yuboriladi...\")\n",
        "    while True:\n",
        "        await asyncio.sleep(1)\n",
        "\n",
        "# Ishga tushirish\n",
        "try:\n",
        "    loop = asyncio.get_event_loop()\n",
        "    if loop.is_running():\n",
        "        loop.create_task(main())\n",
        "    else:\n",
        "        loop.run_until_complete(main())\n",
        "except KeyboardInterrupt:\n",
        "    print(\"Bot to'xtatildi\")\n",
        "    scheduler.shutdown()"
      ],
      "metadata": {
        "colab": {
          "base_uri": "https://localhost:8080/"
        },
        "id": "cc1G-Jei0AP-",
        "outputId": "ea01ae70-7459-483b-9604-644a0681c6e1"
      },
      "execution_count": 14,
      "outputs": [
        {
          "output_type": "stream",
          "name": "stdout",
          "text": [
            "Requirement already satisfied: python-telegram-bot==20.3 in /usr/local/lib/python3.11/dist-packages (20.3)\n",
            "Requirement already satisfied: apscheduler in /usr/local/lib/python3.11/dist-packages (3.6.3)\n",
            "Requirement already satisfied: pytz in /usr/local/lib/python3.11/dist-packages (2025.2)\n",
            "Requirement already satisfied: httpx~=0.24.0 in /usr/local/lib/python3.11/dist-packages (from python-telegram-bot==20.3) (0.24.1)\n",
            "Requirement already satisfied: setuptools>=0.7 in /usr/local/lib/python3.11/dist-packages (from apscheduler) (75.2.0)\n",
            "Requirement already satisfied: six>=1.4.0 in /usr/local/lib/python3.11/dist-packages (from apscheduler) (1.17.0)\n",
            "Requirement already satisfied: tzlocal>=1.2 in /usr/local/lib/python3.11/dist-packages (from apscheduler) (5.3.1)\n",
            "Requirement already satisfied: certifi in /usr/local/lib/python3.11/dist-packages (from httpx~=0.24.0->python-telegram-bot==20.3) (2025.6.15)\n",
            "Requirement already satisfied: httpcore<0.18.0,>=0.15.0 in /usr/local/lib/python3.11/dist-packages (from httpx~=0.24.0->python-telegram-bot==20.3) (0.17.3)\n",
            "Requirement already satisfied: idna in /usr/local/lib/python3.11/dist-packages (from httpx~=0.24.0->python-telegram-bot==20.3) (3.10)\n",
            "Requirement already satisfied: sniffio in /usr/local/lib/python3.11/dist-packages (from httpx~=0.24.0->python-telegram-bot==20.3) (1.3.1)\n",
            "Requirement already satisfied: h11<0.15,>=0.13 in /usr/local/lib/python3.11/dist-packages (from httpcore<0.18.0,>=0.15.0->httpx~=0.24.0->python-telegram-bot==20.3) (0.14.0)\n",
            "Requirement already satisfied: anyio<5.0,>=3.0 in /usr/local/lib/python3.11/dist-packages (from httpcore<0.18.0,>=0.15.0->httpx~=0.24.0->python-telegram-bot==20.3) (4.9.0)\n",
            "Requirement already satisfied: typing_extensions>=4.5 in /usr/local/lib/python3.11/dist-packages (from anyio<5.0,>=3.0->httpcore<0.18.0,>=0.15.0->httpx~=0.24.0->python-telegram-bot==20.3) (4.14.0)\n",
            "Requirement already satisfied: flask in /usr/local/lib/python3.11/dist-packages (3.1.1)\n",
            "Requirement already satisfied: blinker>=1.9.0 in /usr/local/lib/python3.11/dist-packages (from flask) (1.9.0)\n",
            "Requirement already satisfied: click>=8.1.3 in /usr/local/lib/python3.11/dist-packages (from flask) (8.2.1)\n",
            "Requirement already satisfied: itsdangerous>=2.2.0 in /usr/local/lib/python3.11/dist-packages (from flask) (2.2.0)\n",
            "Requirement already satisfied: jinja2>=3.1.2 in /usr/local/lib/python3.11/dist-packages (from flask) (3.1.6)\n",
            "Requirement already satisfied: markupsafe>=2.1.1 in /usr/local/lib/python3.11/dist-packages (from flask) (3.0.2)\n",
            "Requirement already satisfied: werkzeug>=3.1.0 in /usr/local/lib/python3.11/dist-packages (from flask) (3.1.3)\n",
            " * Serving Flask app '__main__'\n",
            " * Debug mode: off\n"
          ]
        },
        {
          "output_type": "stream",
          "name": "stderr",
          "text": [
            "Address already in use\n",
            "Port 5000 is in use by another program. Either identify and stop that program, or start the server with a different port.\n"
          ]
        }
      ]
    },
    {
      "cell_type": "code",
      "source": [
        "# Flask asosida ishlash uchun\n",
        "from flask import Flask\n",
        "app = Flask(__name__)\n",
        "\n",
        "@app.route('/')\n",
        "def home():\n",
        "    return \"Bot ishlayapti\""
      ],
      "metadata": {
        "id": "FC7ahvUC0RGO"
      },
      "execution_count": 15,
      "outputs": []
    },
    {
      "cell_type": "code",
      "source": [],
      "metadata": {
        "id": "cSPF933S0glV"
      },
      "execution_count": 17,
      "outputs": []
    },
    {
      "cell_type": "code",
      "source": [],
      "metadata": {
        "id": "vMkAHnFd2Kwr"
      },
      "execution_count": null,
      "outputs": []
    }
  ]
}